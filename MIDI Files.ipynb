{
 "cells": [
  {
   "cell_type": "markdown",
   "id": "03fa090a-a764-4e08-b544-7423955355f1",
   "metadata": {},
   "source": [
    "# Introduction to MIDI Files\n",
    "\n",
    "MIDI stands for Musical Instrument Digital Interface. As the name suggests, it is a way for computers to emulate the sounds of an authentic hand-played instrument. Since its introduction in 1983 as a product of Dave Smith and Ikutaro Kakehashi, the MIDI file format has become the industry standard for synthesisers [1]. Both won the Technical Grammy award for their contribution."
   ]
  },
  {
   "cell_type": "markdown",
   "id": "b7c3e648-9b54-4bba-90e5-bf6495eb7a97",
   "metadata": {},
   "source": [
    "#### Boilerplate Code - Playing Notes\n",
    "\n",
    "In Python we can use the _Mido_ library that is a front-end for the RtMidi library which is written in C. Using the default synthesiser, _Microsoft GS Wavetable Synth_ on Windows,"
   ]
  },
  {
   "cell_type": "code",
   "execution_count": 1,
   "id": "1204df99-68ae-47b6-9521-bdbbf15ae43b",
   "metadata": {},
   "outputs": [
    {
     "name": "stdout",
     "output_type": "stream",
     "text": [
      "<open output 'Microsoft GS Wavetable Synth 0' (RtMidi/WINDOWS_MM)>\n"
     ]
    }
   ],
   "source": [
    "import mido\n",
    "\n",
    "# Interfacing with Microsoft GS Wavetable Synth,\n",
    "port = mido.open_output()\n",
    "print(port)"
   ]
  },
  {
   "cell_type": "markdown",
   "id": "599e734f-38d1-40ca-bf1f-134bb621b03f",
   "metadata": {},
   "source": [
    "Playing a note,"
   ]
  },
  {
   "cell_type": "code",
   "execution_count": 2,
   "id": "f4f34e33-30f9-4b78-b2ec-290965d90512",
   "metadata": {},
   "outputs": [],
   "source": [
    "msg = mido.Message(\"note_on\", channel = 0, note = 46, velocity = 120, time = 4)\n",
    "port.send(msg)"
   ]
  },
  {
   "cell_type": "markdown",
   "id": "58db5236-c9b7-41d1-9f81-07b9ea63ead3",
   "metadata": {},
   "source": [
    "#### Opening MIDI Files\n",
    "\n",
    "Let us now open a MIDI file and look at its contents. We see that it has a header which contains the meta information such as the track name, copyright and song title. The body then consists of the notes which compose the piece."
   ]
  },
  {
   "cell_type": "code",
   "execution_count": 8,
   "id": "6f31e254-0edb-41b7-a385-32d6078fdf07",
   "metadata": {},
   "outputs": [
    {
     "name": "stdout",
     "output_type": "stream",
     "text": [
      "MidiFile(type=1, ticks_per_beat=480, tracks=[\n",
      "  MidiTrack([\n",
      "    Message('note_on', channel=0, note=25, velocity=64, time=0),\n",
      "    Message('note_off', channel=0, note=25, velocity=64, time=1136),\n",
      "    Message('note_on', channel=0, note=25, velocity=64, time=0),\n",
      "    Message('note_off', channel=0, note=25, velocity=64, time=1047),\n",
      "    Message('note_on', channel=0, note=70, velocity=64, time=0),\n",
      "    Message('note_off', channel=0, note=70, velocity=64, time=746),\n",
      "    Message('note_on', channel=0, note=25, velocity=64, time=0),\n",
      "    Message('note_off', channel=0, note=25, velocity=64, time=1203),\n",
      "    Message('note_on', channel=0, note=70, velocity=64, time=0),\n",
      "    Message('note_off', channel=0, note=70, velocity=64, time=2385),\n",
      "    Message('note_on', channel=0, note=70, velocity=64, time=0),\n",
      "    Message('note_off', channel=0, note=70, velocity=64, time=780),\n",
      "    Message('note_on', channel=0, note=1, velocity=64, time=0),\n",
      "    Message('note_off', channel=0, note=1, velocity=64, time=445),\n",
      "    Message('note_on', channel=0, note=28, velocity=64, time=0),\n",
      "    Message('note_off', channel=0, note=28, velocity=64, time=691),\n",
      "    Message('note_on', channel=0, note=55, velocity=64, time=0),\n",
      "    Message('note_off', channel=0, note=55, velocity=64, time=256),\n",
      "    Message('note_on', channel=0, note=49, velocity=64, time=0),\n",
      "    Message('note_off', channel=0, note=49, velocity=64, time=702),\n",
      "    Message('note_on', channel=0, note=25, velocity=64, time=0),\n",
      "    Message('note_off', channel=0, note=25, velocity=64, time=1716),\n",
      "    Message('note_on', channel=0, note=52, velocity=64, time=0),\n",
      "    Message('note_off', channel=0, note=52, velocity=64, time=557),\n",
      "    Message('note_on', channel=0, note=70, velocity=64, time=0),\n",
      "    Message('note_off', channel=0, note=70, velocity=64, time=724),\n",
      "    Message('note_on', channel=0, note=25, velocity=64, time=0),\n",
      "    Message('note_off', channel=0, note=25, velocity=64, time=1136),\n",
      "    MetaMessage('end_of_track', time=0)])\n",
      "])\n"
     ]
    }
   ],
   "source": [
    "midi_file = mido.MidiFile(\"output.mid\")\n",
    "print(midi_file)"
   ]
  },
  {
   "cell_type": "markdown",
   "id": "90c35d06-1d68-4e6f-8254-5927006b1707",
   "metadata": {},
   "source": [
    "A useful method is _.play()_ which turns the _mido.MidiFile_ object into a generator that we can iterate over to access each _mido.Message_ object. We can send each message to the synthesiser, thereby playing the MIDI file, "
   ]
  },
  {
   "cell_type": "code",
   "execution_count": 9,
   "id": "c01ff361-53c2-4ca3-91d0-e011702f43a7",
   "metadata": {},
   "outputs": [],
   "source": [
    "for msg in midi_file.play():\n",
    "    port.send(msg)"
   ]
  },
  {
   "cell_type": "markdown",
   "id": "65e42b81-deff-486c-ba71-484a404c8d4d",
   "metadata": {},
   "source": [
    "#### Creating MIDI Files\n",
    "\n",
    "The creation of MIDI files is simple,"
   ]
  },
  {
   "cell_type": "code",
   "execution_count": 47,
   "id": "fae125f4-d3c9-4b3b-9df0-4e3b4b5dfe4d",
   "metadata": {},
   "outputs": [],
   "source": [
    "# Creating empty MIDI file object,\n",
    "midi_file = mido.MidiFile()\n",
    "\n",
    "# Create empty track,\n",
    "track = mido.MidiTrack()\n",
    "\n",
    "# Append track to the MIDI file object tracklist,\n",
    "midi_file.tracks.append(track)\n",
    "\n",
    "# Adding notes to the track,\n",
    "track.append(mido.Message(\"program_change\", program = 12, time = 0))\n",
    "track.append(mido.Message(\"note_on\", note = 64, velocity = 64, time = 32))\n",
    "track.append(mido.Message(\"note_off\", note = 64, velocity = 127, time = 32))\n",
    "\n",
    "# Saving MIDI file,\n",
    "midi_file.save(\"new_song.mid\")"
   ]
  },
  {
   "cell_type": "markdown",
   "id": "a6436e31-5b23-4884-829e-481c14b244d1",
   "metadata": {},
   "source": [
    "# References\n"
   ]
  },
  {
   "cell_type": "markdown",
   "id": "57acebac-fca5-4c8c-8b62-ad935046423e",
   "metadata": {},
   "source": [
    "[[1]](https://www.researchgate.net/publication/273059997_Music_Instrument_Digital_Interface_MIDI_-_Music_in_the_Social_and_Behavioral_Sciences) Chattah, Juan. (2014). Music Instrument Digital Interface (MIDI) - Music in the Social and Behavioral Sciences. Encyclopedia of Music in the Social and Behavioral Sciences. II. 789. "
   ]
  }
 ],
 "metadata": {
  "kernelspec": {
   "display_name": "Python 3 (ipykernel)",
   "language": "python",
   "name": "python3"
  },
  "language_info": {
   "codemirror_mode": {
    "name": "ipython",
    "version": 3
   },
   "file_extension": ".py",
   "mimetype": "text/x-python",
   "name": "python",
   "nbconvert_exporter": "python",
   "pygments_lexer": "ipython3",
   "version": "3.12.5"
  }
 },
 "nbformat": 4,
 "nbformat_minor": 5
}
